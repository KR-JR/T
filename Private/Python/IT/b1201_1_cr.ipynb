{
 "cells": [
  {
   "cell_type": "code",
   "execution_count": 22,
   "metadata": {},
   "outputs": [],
   "source": [
    "# selenium 으로 크롬 열기 및 구글 이미지 검색창 이동\n",
    "from selenium import webdriver\n",
    "import time\n",
    "driver = webdriver.Chrome()\n",
    "\n",
    "url = \"https://www.google.co.kr/imghp\"\n",
    "driver.get(url=url)\n",
    "\n",
    "driver.implicitly_wait(10)"
   ]
  },
  {
   "cell_type": "code",
   "execution_count": 23,
   "metadata": {},
   "outputs": [],
   "source": [
    "# 검색창 검색 key설정\n",
    "from selenium.webdriver.common.by import By\n",
    "from selenium.webdriver.common.keys import Keys\n",
    "\n",
    "elem = driver.find_element(By.CSS_SELECTOR, '#APjFqb')\n",
    "# elem = driver.find_element(By.XPATH, '')\n",
    "\n",
    "elem.send_keys('고양이')\n",
    "elem.send_keys(Keys.RETURN)"
   ]
  },
  {
   "cell_type": "code",
   "execution_count": 24,
   "metadata": {},
   "outputs": [
    {
     "name": "stdout",
     "output_type": "stream",
     "text": [
      "찾은 이미지 개수:  48\n",
      "찾은 이미지 개수:  512\n"
     ]
    }
   ],
   "source": [
    "# 이미지 개수 표시 코드\n",
    "links = []\n",
    "images = driver.find_elements(By.CSS_SELECTOR, \"#islrg > div.islrc > div > a.FRuiCf.islib.nfEiy > div.fR600b.islir > img\")\n",
    "\n",
    "for image in images:\n",
    "    if image.get_attribute('src') is not None:\n",
    "        links.append(image.get_attribute('src'))\n",
    "\n",
    "print('찾은 이미지 개수: ', len(links))\n",
    "\n",
    "links = []\n",
    "images = driver.find_elements(By.CSS_SELECTOR, \"#islrg > div.islrc > div > div > a.FRuiCf.islib.nfEiy > div.fR600b.islir > img\")\n",
    "\n",
    "for image in images:\n",
    "    if image.get_attribute('src') is not None:\n",
    "        links.append(image.get_attribute('src'))\n",
    "\n",
    "print('찾은 이미지 개수: ', len(links))\n",
    "        \n",
    "   "
   ]
  },
  {
   "cell_type": "code",
   "execution_count": 27,
   "metadata": {},
   "outputs": [
    {
     "name": "stdout",
     "output_type": "stream",
     "text": [
      "다운로드 완료\n"
     ]
    }
   ],
   "source": [
    "# 개수만큼 요청해서 경로에 저장\n",
    "import urllib.request\n",
    "\n",
    "for k, i in enumerate(links):\n",
    "    url = i\n",
    "    urllib.request.urlretrieve(url, \"C:\\\\CAT\\\\\" +str(k) + \".jpg\")\n",
    "    \n",
    "print(\"다운로드 완료\")"
   ]
  }
 ],
 "metadata": {
  "kernelspec": {
   "display_name": "Python 3",
   "language": "python",
   "name": "python3"
  },
  "language_info": {
   "codemirror_mode": {
    "name": "ipython",
    "version": 3
   },
   "file_extension": ".py",
   "mimetype": "text/x-python",
   "name": "python",
   "nbconvert_exporter": "python",
   "pygments_lexer": "ipython3",
   "version": "3.11.2"
  }
 },
 "nbformat": 4,
 "nbformat_minor": 2
}
